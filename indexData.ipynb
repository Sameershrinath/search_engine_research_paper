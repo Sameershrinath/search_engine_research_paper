{
 "cells": [
  {
   "cell_type": "code",
   "execution_count": 46,
   "metadata": {},
   "outputs": [],
   "source": [
    "from elasticsearch import Elasticsearch"
   ]
  },
  {
   "cell_type": "code",
   "execution_count": 47,
   "metadata": {},
   "outputs": [
    {
     "data": {
      "text/plain": [
       "True"
      ]
     },
     "execution_count": 47,
     "metadata": {},
     "output_type": "execute_result"
    }
   ],
   "source": [
    "es = Elasticsearch(\n",
    "    \"https://localhost:9200\",\n",
    "    basic_auth=(\"elastic\", \"-cC8rBqKeq_ESUrF7nCi\"),\n",
    "    ca_certs=r\"C:\\Users\\Samee\\http_ca.crt\",\n",
    "    verify_certs=True\n",
    ")\n",
    "es.ping()"
   ]
  },
  {
   "cell_type": "markdown",
   "metadata": {},
   "source": [
    "## Prepare the data"
   ]
  },
  {
   "cell_type": "code",
   "execution_count": 48,
   "metadata": {},
   "outputs": [],
   "source": [
    "import pandas as pd\n",
    "\n",
    "df = pd.read_csv(\"researchpaper.csv\")\n",
    "new_df=df[[\"Title\",\"Paper_ID\",\"Abstract\",\"Keywords\",\"Description\"]]"
   ]
  },
  {
   "cell_type": "code",
   "execution_count": 49,
   "metadata": {},
   "outputs": [
    {
     "data": {
      "text/html": [
       "<div>\n",
       "<style scoped>\n",
       "    .dataframe tbody tr th:only-of-type {\n",
       "        vertical-align: middle;\n",
       "    }\n",
       "\n",
       "    .dataframe tbody tr th {\n",
       "        vertical-align: top;\n",
       "    }\n",
       "\n",
       "    .dataframe thead th {\n",
       "        text-align: right;\n",
       "    }\n",
       "</style>\n",
       "<table border=\"1\" class=\"dataframe\">\n",
       "  <thead>\n",
       "    <tr style=\"text-align: right;\">\n",
       "      <th></th>\n",
       "      <th>Title</th>\n",
       "      <th>Paper_ID</th>\n",
       "      <th>Abstract</th>\n",
       "      <th>Keywords</th>\n",
       "      <th>Description</th>\n",
       "    </tr>\n",
       "  </thead>\n",
       "  <tbody>\n",
       "    <tr>\n",
       "      <th>0</th>\n",
       "      <td>Outer Space Exploration and the SustainabiIity...</td>\n",
       "      <td>PA001</td>\n",
       "      <td>In contrast with the early years of space flig...</td>\n",
       "      <td>Outer space; sustainability; space debris; out...</td>\n",
       "      <td>Space exploration, once limited to states, now...</td>\n",
       "    </tr>\n",
       "    <tr>\n",
       "      <th>1</th>\n",
       "      <td>Building an AI-based Model to Extract and Clas...</td>\n",
       "      <td>PA002</td>\n",
       "      <td>Medical history forms, often lacking standardi...</td>\n",
       "      <td>AI-based model\\n\\nMedical history forms (PMH f...</td>\n",
       "      <td>This research paper, \"Building an AI-based Mod...</td>\n",
       "    </tr>\n",
       "    <tr>\n",
       "      <th>2</th>\n",
       "      <td>Human Health during Space Travel: State-of-the...</td>\n",
       "      <td>PA003</td>\n",
       "      <td>The field of human space travel is in the mids...</td>\n",
       "      <td>human health, space travel, space mission, spa...</td>\n",
       "      <td>\\nThis paper provides a state-of-the-art revie...</td>\n",
       "    </tr>\n",
       "    <tr>\n",
       "      <th>3</th>\n",
       "      <td>Problems Astronauts Face During Space Missions</td>\n",
       "      <td>PA004</td>\n",
       "      <td>Space missions expose astronauts to unique and...</td>\n",
       "      <td>Astronaut health; space missions; microgravity...</td>\n",
       "      <td>This research paper provides a comprehensive a...</td>\n",
       "    </tr>\n",
       "    <tr>\n",
       "      <th>4</th>\n",
       "      <td>The Role of Artificial Intelligence in Future ...</td>\n",
       "      <td>PA005</td>\n",
       "      <td>Future deep-space missions to Mars and beyond ...</td>\n",
       "      <td>Artificial intelligence; astronaut healthcare;...</td>\n",
       "      <td>This research paper investigates how Artificia...</td>\n",
       "    </tr>\n",
       "  </tbody>\n",
       "</table>\n",
       "</div>"
      ],
      "text/plain": [
       "                                               Title Paper_ID  \\\n",
       "0  Outer Space Exploration and the SustainabiIity...    PA001   \n",
       "1  Building an AI-based Model to Extract and Clas...    PA002   \n",
       "2  Human Health during Space Travel: State-of-the...    PA003   \n",
       "3     Problems Astronauts Face During Space Missions    PA004   \n",
       "4  The Role of Artificial Intelligence in Future ...    PA005   \n",
       "\n",
       "                                            Abstract  \\\n",
       "0  In contrast with the early years of space flig...   \n",
       "1  Medical history forms, often lacking standardi...   \n",
       "2  The field of human space travel is in the mids...   \n",
       "3  Space missions expose astronauts to unique and...   \n",
       "4  Future deep-space missions to Mars and beyond ...   \n",
       "\n",
       "                                            Keywords  \\\n",
       "0  Outer space; sustainability; space debris; out...   \n",
       "1  AI-based model\\n\\nMedical history forms (PMH f...   \n",
       "2  human health, space travel, space mission, spa...   \n",
       "3  Astronaut health; space missions; microgravity...   \n",
       "4  Artificial intelligence; astronaut healthcare;...   \n",
       "\n",
       "                                         Description  \n",
       "0  Space exploration, once limited to states, now...  \n",
       "1  This research paper, \"Building an AI-based Mod...  \n",
       "2  \\nThis paper provides a state-of-the-art revie...  \n",
       "3  This research paper provides a comprehensive a...  \n",
       "4  This research paper investigates how Artificia...  "
      ]
     },
     "execution_count": 49,
     "metadata": {},
     "output_type": "execute_result"
    }
   ],
   "source": [
    "new_df.head()"
   ]
  },
  {
   "cell_type": "code",
   "execution_count": 50,
   "metadata": {},
   "outputs": [
    {
     "name": "stdout",
     "output_type": "stream",
     "text": [
      "<class 'pandas.core.frame.DataFrame'>\n",
      "RangeIndex: 42 entries, 0 to 41\n",
      "Data columns (total 5 columns):\n",
      " #   Column       Non-Null Count  Dtype \n",
      "---  ------       --------------  ----- \n",
      " 0   Title        42 non-null     object\n",
      " 1   Paper_ID     42 non-null     object\n",
      " 2   Abstract     42 non-null     object\n",
      " 3   Keywords     41 non-null     object\n",
      " 4   Description  42 non-null     object\n",
      "dtypes: object(5)\n",
      "memory usage: 1.8+ KB\n"
     ]
    }
   ],
   "source": [
    "new_df.info()"
   ]
  },
  {
   "cell_type": "code",
   "execution_count": 51,
   "metadata": {},
   "outputs": [
    {
     "name": "stderr",
     "output_type": "stream",
     "text": [
      "C:\\Users\\Samee\\AppData\\Local\\Temp\\ipykernel_18144\\1470036808.py:1: SettingWithCopyWarning: \n",
      "A value is trying to be set on a copy of a slice from a DataFrame\n",
      "\n",
      "See the caveats in the documentation: https://pandas.pydata.org/pandas-docs/stable/user_guide/indexing.html#returning-a-view-versus-a-copy\n",
      "  new_df.fillna(\"None\", inplace=True)\n"
     ]
    }
   ],
   "source": [
    "new_df.fillna(\"None\", inplace=True)"
   ]
  },
  {
   "cell_type": "markdown",
   "metadata": {},
   "source": [
    "## Convert the relevant field to Vector using BERT model"
   ]
  },
  {
   "cell_type": "code",
   "execution_count": 52,
   "metadata": {},
   "outputs": [],
   "source": [
    "from sentence_transformers import SentenceTransformer\n",
    "model = SentenceTransformer('all-mpnet-base-v2')"
   ]
  },
  {
   "cell_type": "code",
   "execution_count": 53,
   "metadata": {},
   "outputs": [],
   "source": [
    "new_df[\"DescriptionVector\"] = new_df[\"Description\"].apply(lambda x: model.encode(x))"
   ]
  },
  {
   "cell_type": "code",
   "execution_count": 54,
   "metadata": {},
   "outputs": [
    {
     "data": {
      "text/html": [
       "<div>\n",
       "<style scoped>\n",
       "    .dataframe tbody tr th:only-of-type {\n",
       "        vertical-align: middle;\n",
       "    }\n",
       "\n",
       "    .dataframe tbody tr th {\n",
       "        vertical-align: top;\n",
       "    }\n",
       "\n",
       "    .dataframe thead th {\n",
       "        text-align: right;\n",
       "    }\n",
       "</style>\n",
       "<table border=\"1\" class=\"dataframe\">\n",
       "  <thead>\n",
       "    <tr style=\"text-align: right;\">\n",
       "      <th></th>\n",
       "      <th>Title</th>\n",
       "      <th>Paper_ID</th>\n",
       "      <th>Abstract</th>\n",
       "      <th>Keywords</th>\n",
       "      <th>Description</th>\n",
       "      <th>DescriptionVector</th>\n",
       "    </tr>\n",
       "  </thead>\n",
       "  <tbody>\n",
       "    <tr>\n",
       "      <th>0</th>\n",
       "      <td>Outer Space Exploration and the SustainabiIity...</td>\n",
       "      <td>PA001</td>\n",
       "      <td>In contrast with the early years of space flig...</td>\n",
       "      <td>Outer space; sustainability; space debris; out...</td>\n",
       "      <td>Space exploration, once limited to states, now...</td>\n",
       "      <td>[0.08122048, 0.054946978, 0.027159322, -0.0032...</td>\n",
       "    </tr>\n",
       "    <tr>\n",
       "      <th>1</th>\n",
       "      <td>Building an AI-based Model to Extract and Clas...</td>\n",
       "      <td>PA002</td>\n",
       "      <td>Medical history forms, often lacking standardi...</td>\n",
       "      <td>AI-based model\\n\\nMedical history forms (PMH f...</td>\n",
       "      <td>This research paper, \"Building an AI-based Mod...</td>\n",
       "      <td>[0.03583035, 0.03543252, -0.0033567206, -0.044...</td>\n",
       "    </tr>\n",
       "    <tr>\n",
       "      <th>2</th>\n",
       "      <td>Human Health during Space Travel: State-of-the...</td>\n",
       "      <td>PA003</td>\n",
       "      <td>The field of human space travel is in the mids...</td>\n",
       "      <td>human health, space travel, space mission, spa...</td>\n",
       "      <td>\\nThis paper provides a state-of-the-art revie...</td>\n",
       "      <td>[0.030508902, 0.035693463, -0.041795213, -0.09...</td>\n",
       "    </tr>\n",
       "    <tr>\n",
       "      <th>3</th>\n",
       "      <td>Problems Astronauts Face During Space Missions</td>\n",
       "      <td>PA004</td>\n",
       "      <td>Space missions expose astronauts to unique and...</td>\n",
       "      <td>Astronaut health; space missions; microgravity...</td>\n",
       "      <td>This research paper provides a comprehensive a...</td>\n",
       "      <td>[0.057593938, 0.0055773044, -0.018906672, -0.0...</td>\n",
       "    </tr>\n",
       "    <tr>\n",
       "      <th>4</th>\n",
       "      <td>The Role of Artificial Intelligence in Future ...</td>\n",
       "      <td>PA005</td>\n",
       "      <td>Future deep-space missions to Mars and beyond ...</td>\n",
       "      <td>Artificial intelligence; astronaut healthcare;...</td>\n",
       "      <td>This research paper investigates how Artificia...</td>\n",
       "      <td>[0.046859734, 0.016425988, -0.04458429, -0.064...</td>\n",
       "    </tr>\n",
       "  </tbody>\n",
       "</table>\n",
       "</div>"
      ],
      "text/plain": [
       "                                               Title Paper_ID  \\\n",
       "0  Outer Space Exploration and the SustainabiIity...    PA001   \n",
       "1  Building an AI-based Model to Extract and Clas...    PA002   \n",
       "2  Human Health during Space Travel: State-of-the...    PA003   \n",
       "3     Problems Astronauts Face During Space Missions    PA004   \n",
       "4  The Role of Artificial Intelligence in Future ...    PA005   \n",
       "\n",
       "                                            Abstract  \\\n",
       "0  In contrast with the early years of space flig...   \n",
       "1  Medical history forms, often lacking standardi...   \n",
       "2  The field of human space travel is in the mids...   \n",
       "3  Space missions expose astronauts to unique and...   \n",
       "4  Future deep-space missions to Mars and beyond ...   \n",
       "\n",
       "                                            Keywords  \\\n",
       "0  Outer space; sustainability; space debris; out...   \n",
       "1  AI-based model\\n\\nMedical history forms (PMH f...   \n",
       "2  human health, space travel, space mission, spa...   \n",
       "3  Astronaut health; space missions; microgravity...   \n",
       "4  Artificial intelligence; astronaut healthcare;...   \n",
       "\n",
       "                                         Description  \\\n",
       "0  Space exploration, once limited to states, now...   \n",
       "1  This research paper, \"Building an AI-based Mod...   \n",
       "2  \\nThis paper provides a state-of-the-art revie...   \n",
       "3  This research paper provides a comprehensive a...   \n",
       "4  This research paper investigates how Artificia...   \n",
       "\n",
       "                                   DescriptionVector  \n",
       "0  [0.08122048, 0.054946978, 0.027159322, -0.0032...  \n",
       "1  [0.03583035, 0.03543252, -0.0033567206, -0.044...  \n",
       "2  [0.030508902, 0.035693463, -0.041795213, -0.09...  \n",
       "3  [0.057593938, 0.0055773044, -0.018906672, -0.0...  \n",
       "4  [0.046859734, 0.016425988, -0.04458429, -0.064...  "
      ]
     },
     "execution_count": 54,
     "metadata": {},
     "output_type": "execute_result"
    }
   ],
   "source": [
    "new_df.head()"
   ]
  },
  {
   "cell_type": "code",
   "execution_count": 37,
   "metadata": {},
   "outputs": [
    {
     "data": {
      "text/plain": [
       "True"
      ]
     },
     "execution_count": 37,
     "metadata": {},
     "output_type": "execute_result"
    }
   ],
   "source": [
    "es.ping()"
   ]
  },
  {
   "cell_type": "markdown",
   "metadata": {},
   "source": [
    "## Create new index in ElasticSearch!"
   ]
  },
  {
   "cell_type": "code",
   "execution_count": 56,
   "metadata": {},
   "outputs": [
    {
     "data": {
      "text/plain": [
       "ObjectApiResponse({'acknowledged': True, 'shards_acknowledged': True, 'index': 'my_researh_paper'})"
      ]
     },
     "execution_count": 56,
     "metadata": {},
     "output_type": "execute_result"
    }
   ],
   "source": [
    "from indexMapping import indexMapping\n",
    "\n",
    "es.indices.create(index=\"my_researh_paper\", mappings=indexMapping)"
   ]
  },
  {
   "cell_type": "markdown",
   "metadata": {},
   "source": [
    "## Ingest the data into index"
   ]
  },
  {
   "cell_type": "code",
   "execution_count": 57,
   "metadata": {},
   "outputs": [],
   "source": [
    "record_list = new_df.to_dict(\"records\")"
   ]
  },
  {
   "cell_type": "code",
   "execution_count": 58,
   "metadata": {},
   "outputs": [],
   "source": [
    "for record in record_list:\n",
    "    try:\n",
    "        es.index(index=\"my_research_paper\", document=record, id=record[\"Paper_ID\"])\n",
    "    except Exception as e:\n",
    "        print(e)"
   ]
  },
  {
   "cell_type": "code",
   "execution_count": 59,
   "metadata": {},
   "outputs": [
    {
     "data": {
      "text/plain": [
       "ObjectApiResponse({'count': 42, '_shards': {'total': 1, 'successful': 1, 'skipped': 0, 'failed': 0}})"
      ]
     },
     "execution_count": 59,
     "metadata": {},
     "output_type": "execute_result"
    }
   ],
   "source": [
    "es.count(index=\"my_research_paper\")"
   ]
  },
  {
   "cell_type": "markdown",
   "metadata": {},
   "source": [
    "## Search the data"
   ]
  },
  {
   "cell_type": "code",
   "execution_count": 44,
   "metadata": {},
   "outputs": [
    {
     "name": "stdout",
     "output_type": "stream",
     "text": [
      "{'Title': 'Outer Space Exploration and the SustainabiIity of the Space Environment-An Uneasy Relationship', 'Description': 'Space exploration, once limited to states, now involves private companies, leading to a more congested and competitive outer space environment. [cite_start]This poses challenges to the sustainability of the space environment, particularly due to the proliferation of space debris and the lack of protection for vulnerable cultural and historical sites on celestial bodies[cite: 30, 31, 32, 33].\\n\\n[cite_start]Current space law, as embodied in the Outer Space Treaty, is criticized for its anthropocentric (human-centered) approach, prioritizing human interests and the exploitation of resources over environmental protection[cite: 238, 239, 240, 241, 242, 243, 244]. [cite_start]The treaty\\'s provisions are often vague and do not explicitly address issues like space debris or the preservation of space heritage[cite: 458, 459, 460, 477, 478, 728]. [cite_start]While some international and national efforts, such as voluntary guidelines, have been made, they are not legally binding[cite: 478, 479, 480, 481, 482].\\n\\n[cite_start]The paper concludes that there is an uneasy relationship between space exploration and environmental sustainability[cite: 904]. [cite_start]It recommends developing new, legally binding \"soft-law\" rules and an eventual treaty under the auspices of UNCOPUOS and UNESCO to address the active removal of space debris and the protection of cultural heritage in space[cite: 907, 908, 911, 980, 982]. [cite_start]These rules would need to define terms like \"space debris\" and \"space object,\" and establish clear guidelines for property rights and \"safety zones\" around heritage sites to balance competing interests without violating the principle of non-appropriation[cite: 929, 930, 931, 933, 934, 935, 980].\\n\\n***\\n\\nThis research paper titled \"Outer Space Exploration and the Sustainability of the Space Environment - An Uneasy Relationship\" by A Ferreira-Snyman examines the growing conflict between increasing space activities and the need to preserve the outer space environment. The author argues that the new era of space exploration, which includes private companies, is leading to a more congested and competitive environment, raising serious concerns about space debris and the protection of cultural and historical sites on celestial bodies. The paper analyzes the shortcomings of the existing legal framework, particularly the Outer Space Treaty, which it characterizes as anthropocentric and inadequate for addressing modern environmental and heritage issues in space. The research concludes that a new, cooperative approach is necessary, recommending the development of interim \"soft-law\" rules and a future binding treaty under the guidance of UN bodies like UNCOPUOS and UNESCO. The proposed framework would address critical issues such as defining space debris, clarifying property rights, and establishing safety zones around heritage sites, aiming to strike a balance between space exploration and the long-term sustainability of the space environment for all of humanity. '}\n",
      "{'Title': 'Mitigating Space Debris Risks: NASA Policy, Technology, and Cost-Benefit Analysis', 'Description': 'This research paper presents a technical and economic evaluation of measures to reduce orbital debris hazards in Earth’s orbit. NASA’s Office of Technology, Policy, and Strategy applied detailed simulations to estimate the evolving debris environment and quantify the cost-effectiveness of mitigation, tracking, and remediation methods. Unlike previous studies, the analysis directly models risk in financial terms and shows that rapid deorbiting of obsolete spacecraft, targeted shielding, and precise tracking of small debris fragments can substantially lower operational risks and costs. The report also highlights that some remediation strategies are as impactful as mitigation and emphasizes the need for collaborative international policies. These results provide decision-makers with concrete guidance for future debris management, prioritizing combinations of actions that ensure long-term space sustainability and the security of crewed and robotic missions.\\n'}\n",
      "{'Title': 'Space Debris and Its Challenges for Future Space Missions', 'Description': 'This research paper focuses on the growing challenge of space debris and its implications for future space missions. Space debris includes defunct satellites, spent rocket stages, fragments from collisions, and abandoned mission equipment orbiting Earth. With thousands of satellites being launched annually, the orbital environment is becoming increasingly congested. At orbital speeds of up to 28,000 km/h, even a small fragment can damage spacecraft shielding, threaten astronaut safety, or disrupt satellite communications.\\n\\nThe paper reviews NASA and ESA reports on the scale of the debris problem, including the Kessler Syndrome, where collisions generate more fragments, leading to a self-sustaining cycle of debris growth. Current countermeasures include debris tracking systems, collision avoidance maneuvers, and guidelines for satellite deorbiting. Emerging technologies such as robotic arms, space nets, lasers, and drag sails for active debris removal are also discussed.\\n\\nAdditionally, the study examines international space law and the role of global cooperation in debris management. Without effective action, space debris may hinder future exploration and commercial activities. Thus, ensuring a sustainable orbital environment is critical for the long-term success of human and robotic missions in space.'}\n",
      "{'Title': 'Instability of the Present LEO Satellite Populations', 'Description': 'Liou uses orbital-propagation models and collision-fragmentation estimates to show that the current population of objects in low Earth orbit (LEO) is near — or has already passed — a threshold where collisions will produce more debris than orbital decay and mitigation can remove, a self-sustaining growth process often referred to as cascading or the Kessler syndrome. The study examines historical launch/fragmentation rates, models future collision probabilities under varying launch scenarios, and quantifies how disabling fragmentation sources (e.g., removing large, massive derelict objects) or reducing fragmentation cross-section could alter long-term outcomes. Key results show that even with no new launches, collisions among existing objects can increase the debris population over time, threatening the long-term usability of certain LEO bands. The paper argues for combined policy and technical solutions including stricter post-mission disposal, design-for-demise, improved tracking, and research into active debris removal (ADR) as essential measures to avoid cascade effects and preserve orbital environments for future missions.'}\n",
      "{'Title': 'NASA Artemis Program: Advancing Sustainable Lunar Exploration', 'Description': 'The NASA Artemis Program aims to return humans to the Moon by the mid-2020s and establish a sustainable human presence by the end of the decade. The program focuses on developing new technologies for lunar surface exploration, enhancing scientific research, and preparing for future missions to Mars. Artemis integrates international partnerships and commercial collaborations to expand capabilities in space transportation, habitats, and life support systems.'}\n",
      "{'Title': 'RemoveDEBRIS: An in-orbit demonstration of technologies for the removal of space debris', 'Description': \"The RemoveDEBRIS mission (led by the Surrey Space Centre) was a low-cost technology demonstration that validated several candidate approaches for active debris removal in orbit. The mission deployed test targets and executed capture experiments using a net and a harpoon, demonstrating the feasibility of these capture mechanisms under realistic microgravity conditions. It also demonstrated vision-based navigation for target approach, a drag sail for passive de-orbiting, and provided measurement data on dynamics of capture and stabilization. The mission helped identify failure modes, practical constraints on capture system mass and volume, and the importance of designing capture strategies that tolerate target tumbling and structural irregularities. RemoveDEBRIS's results have been widely cited as proof-of-concept that ADR methods can work at small mission scales and helped steer follow-up projects and commercial efforts. The paper summarizes experiment setups, telemetry results, lessons learned, and recommended next steps for scaling ADR into operational services that can be integrated with broader space sustainability strategies.\"}\n",
      "{'Title': 'Small Satellites: A Revolution in Space Science (Keck Institute report)', 'Description': 'The Keck Institute report documents how small-satellite platforms (especially CubeSats) have democratized access to space, enabling low-cost science, rapid technology demonstrations, and constellation architectures for continuous observation. The report surveys successful missions, instrument miniaturization, propulsion miniaturization, and challenges in standards, radiation tolerance, and communications/ground support. It argues that smallsats can complement larger flagship missions by providing temporal coverage, distributed measurements, and risk-tolerant testbeds for new instruments or autonomy functions. The authors recommend community investment in standardized buses, flight heritage components, and coordinated mission architectures to amplify scientific return while controlling cost. The report has informed policy discussions and funding priorities for academic and commercial smallsat programs.'}\n",
      "{'Title': 'Psychological Challenges of Astronauts in Long-Duration Space Missions', 'Description': 'This research paper investigates the psychological challenges astronauts face during prolonged space missions. Unlike short orbital flights, deep-space exploration to Mars or lunar colonies requires extended periods of confinement in small spacecraft, limited social interaction, and delayed communication with Earth. These conditions can lead to psychological stress, mood swings, sleep disturbances, and decreased team cohesion. Studies on the International Space Station (ISS) and analog environments such as NASA’s HI-SEAS in Hawaii and Russia’s NEK isolation experiments provide evidence of how isolation and monotony affect mental health.\\n\\nThe paper reviews countermeasures currently applied, such as careful crew selection, resilience training, and onboard recreational activities. Technological solutions, including virtual reality environments that simulate nature, and AI-driven emotional monitoring systems, are being explored to reduce stress and detect early signs of psychological issues. The role of group dynamics and cultural diversity in international crews is also analyzed, as it directly impacts cooperation and conflict resolution.\\n\\nUltimately, this study emphasizes that astronaut psychology is as critical as physical health for mission success. Effective strategies for maintaining mental well-being will be vital for future long-duration missions, ensuring astronauts remain cognitively sharp, emotionally stable, and mission-ready during humanity’s next steps into deep space.'}\n",
      "{'Title': 'Engineering Challenges for Active Debris Removal', 'Description': 'This paper outlines the end-to-end engineering challenges involved in planning and executing active debris removal missions. Covering target selection, tracking and characterization, proximity operations, capture techniques (nets, harpoons, robotic arms, tethers), stabilization of tumbling targets, and controlled de-orbit, the study assesses trade-offs around mass, cost, mission complexity, and legal/regulatory constraints. It highlights the need for high-precision guidance and vision-based navigation for small chaser vehicles, robust capture strategies to handle unpredictable tumbling, and safe de-orbit paths to minimise collateral debris creation or risk to populated areas. The paper also discusses mission architectures (single large ADR craft vs. multiple small chasers), relevant ground infrastructure, and the role of international cooperation and liability frameworks in enabling ADR at scale. The work provides a practical roadmap for researchers and agencies aimed at scaling ADR from technology demonstrations to operational services, noting that economics and policy will be as important as technology in deciding which techniques are adopted.'}\n",
      "{'Title': 'Problems Astronauts Face During Space Missions', 'Description': 'This research paper provides a comprehensive analysis of the physiological, psychological, and environmental problems astronauts face during space missions. Extended exposure to microgravity leads to muscle atrophy, bone density reduction, cardiovascular deconditioning, and fluid redistribution, which collectively weaken the human body and impair long-term health. Additionally, cosmic radiation poses severe risks, including DNA damage, increased cancer susceptibility, and potential neurological impairments. Astronauts also suffer from vision problems such as Spaceflight-Associated Neuro-ocular Syndrome (SANS) due to fluid shifts in microgravity.\\n\\nBeyond physical health, space missions present significant psychological challenges. Isolation, confinement, and communication delays with Earth often cause stress, anxiety, disrupted circadian rhythms, and sleep disturbances. These factors can compromise mission efficiency and increase the risk of human error in critical tasks. The weakening of the immune system and greater vulnerability to infections further complicate astronaut health management.\\n\\nThis study draws on NASA’s published research and medical reports to highlight these issues while also reviewing current countermeasures such as exercise devices, nutrition strategies, psychological support, and protective shielding. It concludes with future perspectives, including the integration of AI-driven health assistants and telemedicine, which could enhance astronauts’ resilience and ensure safer, longer-duration space exploration missions.'}\n"
     ]
    }
   ],
   "source": [
    "input_keyword = \"sustainable space\"\n",
    "vector_of_input_keyword = model.encode(input_keyword).tolist()\n",
    "\n",
    "query = {\n",
    "    \"knn\": {\n",
    "        \"field\": \"DescriptionVector\",\n",
    "        \"query_vector\": vector_of_input_keyword,\n",
    "        \"k\": 10,\n",
    "        \"num_candidates\": 500\n",
    "    }\n",
    "}\n",
    "\n",
    "res = es.search(\n",
    "    index=\"all_papers\",\n",
    "    body={\n",
    "        **query,\n",
    "        \"_source\": [\"Title\", \"Description\"]\n",
    "    }\n",
    ")\n",
    "\n",
    "for hit in res[\"hits\"][\"hits\"]:\n",
    "    print(hit[\"_source\"])\n"
   ]
  },
  {
   "cell_type": "code",
   "execution_count": null,
   "metadata": {},
   "outputs": [
    {
     "ename": "TypeError",
     "evalue": "Positional arguments can't be used with Elasticsearch API methods. Instead only use keyword arguments.",
     "output_type": "error",
     "traceback": [
      "\u001b[31m---------------------------------------------------------------------------\u001b[39m",
      "\u001b[31mTypeError\u001b[39m                                 Traceback (most recent call last)",
      "\u001b[36mCell\u001b[39m\u001b[36m \u001b[39m\u001b[32mIn[45]\u001b[39m\u001b[32m, line 11\u001b[39m\n\u001b[32m      3\u001b[39m es = Elasticsearch(\n\u001b[32m      4\u001b[39m     \u001b[33m\"\u001b[39m\u001b[33mhttps://localhost:9200\u001b[39m\u001b[33m\"\u001b[39m,\n\u001b[32m      5\u001b[39m     basic_auth=(\u001b[33m\"\u001b[39m\u001b[33melastic\u001b[39m\u001b[33m\"\u001b[39m, \u001b[33m\"\u001b[39m\u001b[33m-cC8rBqKeq_ESUrF7nCi\u001b[39m\u001b[33m\"\u001b[39m),\n\u001b[32m      6\u001b[39m     ca_certs=\u001b[33mr\u001b[39m\u001b[33m\"\u001b[39m\u001b[33mC:\u001b[39m\u001b[33m\\\u001b[39m\u001b[33mUsers\u001b[39m\u001b[33m\\\u001b[39m\u001b[33mSamee\u001b[39m\u001b[33m\\\u001b[39m\u001b[33mhttp_ca.crt\u001b[39m\u001b[33m\"\u001b[39m,\n\u001b[32m      7\u001b[39m     verify_certs=\u001b[38;5;28;01mTrue\u001b[39;00m\n\u001b[32m      8\u001b[39m )\n\u001b[32m     10\u001b[39m \u001b[38;5;66;03m# List all indices\u001b[39;00m\n\u001b[32m---> \u001b[39m\u001b[32m11\u001b[39m indices = \u001b[43mes\u001b[49m\u001b[43m.\u001b[49m\u001b[43mindices\u001b[49m\u001b[43m.\u001b[49m\u001b[43mget_alias\u001b[49m\u001b[43m(\u001b[49m\u001b[33;43m\"\u001b[39;49m\u001b[33;43m*\u001b[39;49m\u001b[33;43m\"\u001b[39;49m\u001b[43m)\u001b[49m\n\u001b[32m     12\u001b[39m \u001b[38;5;28mprint\u001b[39m(indices.keys())\n",
      "\u001b[36mFile \u001b[39m\u001b[32mc:\\Users\\Samee\\OneDrive\\Desktop\\vectordatabase\\vdb_env\\Lib\\site-packages\\elasticsearch\\_sync\\client\\utils.py:310\u001b[39m, in \u001b[36m_rewrite_parameters.<locals>.wrapper.<locals>.wrapped\u001b[39m\u001b[34m(*args, **kwargs)\u001b[39m\n\u001b[32m    306\u001b[39m \u001b[38;5;129m@wraps\u001b[39m(api)\n\u001b[32m    307\u001b[39m \u001b[38;5;28;01mdef\u001b[39;00m\u001b[38;5;250m \u001b[39m\u001b[34mwrapped\u001b[39m(*args: Any, **kwargs: Any) -> Any:\n\u001b[32m    308\u001b[39m     \u001b[38;5;66;03m# Let's give a nicer error message when users pass positional arguments.\u001b[39;00m\n\u001b[32m    309\u001b[39m     \u001b[38;5;28;01mif\u001b[39;00m \u001b[38;5;28mlen\u001b[39m(args) >= \u001b[32m2\u001b[39m:\n\u001b[32m--> \u001b[39m\u001b[32m310\u001b[39m         \u001b[38;5;28;01mraise\u001b[39;00m \u001b[38;5;167;01mTypeError\u001b[39;00m(\n\u001b[32m    311\u001b[39m             \u001b[33m\"\u001b[39m\u001b[33mPositional arguments can\u001b[39m\u001b[33m'\u001b[39m\u001b[33mt be used with Elasticsearch API methods. \u001b[39m\u001b[33m\"\u001b[39m\n\u001b[32m    312\u001b[39m             \u001b[33m\"\u001b[39m\u001b[33mInstead only use keyword arguments.\u001b[39m\u001b[33m\"\u001b[39m\n\u001b[32m    313\u001b[39m         )\n\u001b[32m    315\u001b[39m     \u001b[38;5;66;03m# We merge 'params' first as transport options can be specified using params.\u001b[39;00m\n\u001b[32m    316\u001b[39m     \u001b[38;5;28;01mif\u001b[39;00m \u001b[33m\"\u001b[39m\u001b[33mparams\u001b[39m\u001b[33m\"\u001b[39m \u001b[38;5;129;01min\u001b[39;00m kwargs \u001b[38;5;129;01mand\u001b[39;00m (\n\u001b[32m    317\u001b[39m         \u001b[38;5;129;01mnot\u001b[39;00m ignore_deprecated_options\n\u001b[32m    318\u001b[39m         \u001b[38;5;129;01mor\u001b[39;00m \u001b[33m\"\u001b[39m\u001b[33mparams\u001b[39m\u001b[33m\"\u001b[39m \u001b[38;5;129;01mnot\u001b[39;00m \u001b[38;5;129;01min\u001b[39;00m ignore_deprecated_options\n\u001b[32m    319\u001b[39m     ):\n",
      "\u001b[31mTypeError\u001b[39m: Positional arguments can't be used with Elasticsearch API methods. Instead only use keyword arguments."
     ]
    }
   ],
   "source": []
  },
  {
   "cell_type": "code",
   "execution_count": null,
   "metadata": {},
   "outputs": [],
   "source": []
  }
 ],
 "metadata": {
  "kernelspec": {
   "display_name": "vdb_env",
   "language": "python",
   "name": "python3"
  },
  "language_info": {
   "codemirror_mode": {
    "name": "ipython",
    "version": 3
   },
   "file_extension": ".py",
   "mimetype": "text/x-python",
   "name": "python",
   "nbconvert_exporter": "python",
   "pygments_lexer": "ipython3",
   "version": "3.11.5"
  },
  "orig_nbformat": 4
 },
 "nbformat": 4,
 "nbformat_minor": 2
}
